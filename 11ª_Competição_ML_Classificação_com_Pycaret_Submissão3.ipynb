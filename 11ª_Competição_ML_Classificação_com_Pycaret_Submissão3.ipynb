{
  "nbformat": 4,
  "nbformat_minor": 0,
  "metadata": {
    "colab": {
      "provenance": [],
      "mount_file_id": "14jRMi4ZhLvw2IaAVB5CoTcVkYqORBetv",
      "authorship_tag": "ABX9TyMmVCScKccNAda6o22ERy10",
      "include_colab_link": true
    },
    "kernelspec": {
      "name": "python3",
      "display_name": "Python 3"
    },
    "language_info": {
      "name": "python"
    }
  },
  "cells": [
    {
      "cell_type": "markdown",
      "metadata": {
        "id": "view-in-github",
        "colab_type": "text"
      },
      "source": [
        "<a href=\"https://colab.research.google.com/github/Glauciocsilva/Competicao_Machine_Learning/blob/main/11%C2%AA_Competi%C3%A7%C3%A3o_ML_Classifica%C3%A7%C3%A3o_com_Pycaret_Submiss%C3%A3o3.ipynb\" target=\"_parent\"><img src=\"https://colab.research.google.com/assets/colab-badge.svg\" alt=\"Open In Colab\"/></a>"
      ]
    },
    {
      "cell_type": "markdown",
      "source": [
        "## Importando e preparando os dados de teste e treino\n"
      ],
      "metadata": {
        "id": "gJRDRWI62zmb"
      }
    },
    {
      "cell_type": "code",
      "source": [
        "import pandas as pd"
      ],
      "metadata": {
        "id": "-wZGw1972sqy"
      },
      "execution_count": null,
      "outputs": []
    },
    {
      "cell_type": "code",
      "source": [
        "treino = pd.read_csv('/content/drive/MyDrive/11ª Competição Machine Learning/treino.csv')"
      ],
      "metadata": {
        "id": "LiX-B4O828F0"
      },
      "execution_count": null,
      "outputs": []
    },
    {
      "cell_type": "code",
      "source": [
        "teste = pd.read_csv('/content/drive/MyDrive/11ª Competição Machine Learning/teste.csv')"
      ],
      "metadata": {
        "id": "BLHRwrLfsBJ3"
      },
      "execution_count": null,
      "outputs": []
    },
    {
      "cell_type": "code",
      "source": [
        "treino.info()"
      ],
      "metadata": {
        "id": "AG6zNYiV27_w"
      },
      "execution_count": null,
      "outputs": []
    },
    {
      "cell_type": "code",
      "source": [
        "treino.head()"
      ],
      "metadata": {
        "id": "U4Fcm4_x273a"
      },
      "execution_count": null,
      "outputs": []
    },
    {
      "cell_type": "code",
      "source": [
        "# Transformando Coluna RDS(objeto) em Float base treino\n",
        "treino['RDS'] = treino['RDS'].str.rstrip('%')\n",
        "treino['RDS'] = treino['RDS'].astype(float)\n",
        "#treino['RDS'] = treino['RDS'] / 100"
      ],
      "metadata": {
        "id": "-xPUt1Zm27r-"
      },
      "execution_count": null,
      "outputs": []
    },
    {
      "cell_type": "code",
      "source": [
        "\n",
        "# Transformando Coluna RDS(objeto) em Float base teste\n",
        "teste['RDS'] = teste['RDS'].str.rstrip('%')\n",
        "teste['RDS'] = teste['RDS'].astype(float)\n",
        "#teste['RDS'] = teste['RDS'] / 100"
      ],
      "metadata": {
        "id": "FEGDifY03ooc"
      },
      "execution_count": null,
      "outputs": []
    },
    {
      "cell_type": "code",
      "source": [
        "# Tratando colunas vazias treino\n",
        "treino['TempoEmprego'].fillna(value=treino['TempoEmprego'].mean(), inplace=True)\n",
        "treino['RDS'].fillna(value=treino['RDS'].mean(), inplace=True)\n",
        "treino['Atrasos'].fillna(0, inplace=True)\n",
        "treino['Negativos'].fillna(0, inplace=True)"
      ],
      "metadata": {
        "id": "oFWt1z_x3olG"
      },
      "execution_count": null,
      "outputs": []
    },
    {
      "cell_type": "code",
      "source": [
        "# Tratando colunas vazias teste\n",
        "teste['TempoEmprego'].fillna(value=teste['TempoEmprego'].mean(), inplace=True)\n",
        "teste['RDS'].fillna(value=teste['RDS'].mean(), inplace=True)\n",
        "teste['Atrasos'].fillna(0, inplace=True)\n",
        "teste['Negativos'].fillna(0, inplace=True)"
      ],
      "metadata": {
        "id": "9npd3X8pr5qv"
      },
      "execution_count": null,
      "outputs": []
    },
    {
      "cell_type": "code",
      "source": [
        "treino.info()"
      ],
      "metadata": {
        "id": "9PvovFwM3oh9"
      },
      "execution_count": null,
      "outputs": []
    },
    {
      "cell_type": "code",
      "source": [
        "treino2 = pd.DataFrame(treino)\n",
        "treino2.to_csv(\"treino2.csv\", index = False)"
      ],
      "metadata": {
        "id": "9_QRlWySFCvY"
      },
      "execution_count": null,
      "outputs": []
    },
    {
      "cell_type": "code",
      "source": [
        "teste2 = pd.DataFrame(teste)\n",
        "teste2.to_csv(\"teste2.csv\", index = False)"
      ],
      "metadata": {
        "id": "zrHWixzbqr72"
      },
      "execution_count": null,
      "outputs": []
    },
    {
      "cell_type": "code",
      "source": [
        "teste2"
      ],
      "metadata": {
        "id": "lKBV_q8Lrt9o"
      },
      "execution_count": null,
      "outputs": []
    },
    {
      "cell_type": "markdown",
      "source": [
        "## Importação e Preparação dos dados com pycaret\n",
        "\n",
        "\n"
      ],
      "metadata": {
        "id": "Q1hbAVWYnjfY"
      }
    },
    {
      "cell_type": "code",
      "execution_count": null,
      "metadata": {
        "id": "B_xR-RxTnQbD"
      },
      "outputs": [],
      "source": [
        "#instalar o Pycaret\n",
        "\n",
        "!pip install pycaret"
      ]
    },
    {
      "cell_type": "code",
      "source": [
        "from pycaret.datasets import get_data\n",
        "treino = get_data('/content/drive/MyDrive/11ª Competição Machine Learning/treino2')"
      ],
      "metadata": {
        "id": "JS8plSOrn2NN"
      },
      "execution_count": null,
      "outputs": []
    },
    {
      "cell_type": "markdown",
      "source": [
        "## Contruindo modelo com Pycaret"
      ],
      "metadata": {
        "id": "OZUC1LCWr219"
      }
    },
    {
      "cell_type": "code",
      "source": [
        "from pycaret.classification import *"
      ],
      "metadata": {
        "id": "twQ8KRKlr1hP"
      },
      "execution_count": null,
      "outputs": []
    },
    {
      "cell_type": "code",
      "source": [
        "classificacao = setup(data = treino,\n",
        "                      target = 'Cliente',\n",
        "                      fold_strategy = 'kfold',\n",
        "                      fold = 5,\n",
        "                      train_size = 0.8,\n",
        "                      normalize = True)\n",
        "\n",
        ""
      ],
      "metadata": {
        "id": "R4mjJ0B5sDG5"
      },
      "execution_count": null,
      "outputs": []
    },
    {
      "cell_type": "code",
      "source": [
        "models()"
      ],
      "metadata": {
        "id": "h3_pLK3RsWgp"
      },
      "execution_count": null,
      "outputs": []
    },
    {
      "cell_type": "code",
      "source": [
        "melhores = compare_models(n_select= 3, sort = 'F1')"
      ],
      "metadata": {
        "id": "XChxNIh-spj6"
      },
      "execution_count": null,
      "outputs": []
    },
    {
      "cell_type": "code",
      "source": [
        "et = create_model('et')"
      ],
      "metadata": {
        "id": "IiEnF6Aetsen"
      },
      "execution_count": null,
      "outputs": []
    },
    {
      "cell_type": "code",
      "source": [
        "et_tunado = tune_model(et, optimize = 'F1', n_iter = 20)"
      ],
      "metadata": {
        "id": "UFbjJHEvwiMF"
      },
      "execution_count": null,
      "outputs": []
    },
    {
      "cell_type": "code",
      "source": [
        "# Blend de modelos combinados\n",
        "modelo_combinado = blend_models(melhores, method = 'soft')"
      ],
      "metadata": {
        "id": "lvs7voxbxdMm"
      },
      "execution_count": null,
      "outputs": []
    },
    {
      "cell_type": "code",
      "source": [
        "modelo_stack = stack_models(melhores)"
      ],
      "metadata": {
        "id": "obaIqS4tzt91"
      },
      "execution_count": null,
      "outputs": []
    },
    {
      "cell_type": "code",
      "source": [
        "melhores_tunados = [tune_model(i) for i in melhores]"
      ],
      "metadata": {
        "id": "Dudl2DU00WR5"
      },
      "execution_count": null,
      "outputs": []
    },
    {
      "cell_type": "code",
      "source": [
        "modelo_combinado_2 = blend_models(melhores_tunados, method = 'soft')"
      ],
      "metadata": {
        "id": "WdaYLk7x0dos"
      },
      "execution_count": null,
      "outputs": []
    },
    {
      "cell_type": "code",
      "source": [
        "modelo_stack_2 = stack_models(melhores_tunados)"
      ],
      "metadata": {
        "id": "gVWan6-h16e0"
      },
      "execution_count": null,
      "outputs": []
    },
    {
      "cell_type": "code",
      "source": [
        "evaluate_model(modelo_stack_2)"
      ],
      "metadata": {
        "id": "DkuFIfcW2yP7"
      },
      "execution_count": null,
      "outputs": []
    },
    {
      "cell_type": "code",
      "source": [
        "pred = predict_model(modelo_stack_2)"
      ],
      "metadata": {
        "id": "NW-NcKQV5AOi"
      },
      "execution_count": null,
      "outputs": []
    },
    {
      "cell_type": "code",
      "source": [
        "pred"
      ],
      "metadata": {
        "id": "IqBo1C935EXh"
      },
      "execution_count": null,
      "outputs": []
    },
    {
      "cell_type": "code",
      "source": [
        "# finalizando modelo\n",
        "\n",
        "modelo_final = finalize_model(modelo_stack_2)"
      ],
      "metadata": {
        "id": "sc-7gdpe6UA5"
      },
      "execution_count": null,
      "outputs": []
    },
    {
      "cell_type": "code",
      "source": [
        "# salvar o modelo\n",
        "save_model(modelo_final, 'melhor-modelo-cliente2')"
      ],
      "metadata": {
        "id": "JNmytUlH7WFH"
      },
      "execution_count": null,
      "outputs": []
    },
    {
      "cell_type": "code",
      "source": [
        "teste = get_data('/content/drive/MyDrive/11ª Competição Machine Learning/teste')"
      ],
      "metadata": {
        "id": "YQLrjbjTCuvG"
      },
      "execution_count": null,
      "outputs": []
    },
    {
      "cell_type": "code",
      "source": [
        "teste = get_data('/content/drive/MyDrive/11ª Competição Machine Learning/teste2')"
      ],
      "metadata": {
        "id": "MDrJ6fbgrIpk"
      },
      "execution_count": null,
      "outputs": []
    },
    {
      "cell_type": "code",
      "source": [
        "predicoes = modelo_final.predict(teste)\n",
        "predicoes"
      ],
      "metadata": {
        "id": "HJveZ9aNCjp8"
      },
      "execution_count": null,
      "outputs": []
    },
    {
      "cell_type": "code",
      "source": [
        "submissao = pd.DataFrame()\n",
        "submissao['Cliente'] = predicoes\n",
        "submissao"
      ],
      "metadata": {
        "id": "RLOZyaPC7pS5"
      },
      "execution_count": null,
      "outputs": []
    },
    {
      "cell_type": "code",
      "source": [
        "submissao.to_csv('submissao-pycaret-03.csv', index = False)"
      ],
      "metadata": {
        "id": "dBuak1GlB0Qm"
      },
      "execution_count": null,
      "outputs": []
    },
    {
      "cell_type": "code",
      "source": [],
      "metadata": {
        "id": "Q3f1Mcq4DcYx"
      },
      "execution_count": null,
      "outputs": []
    }
  ]
}